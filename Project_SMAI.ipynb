{
 "cells": [
  {
   "cell_type": "code",
   "execution_count": 201,
   "metadata": {
    "id": "HjjHmPGYE9vX"
   },
   "outputs": [],
   "source": [
    "from matplotlib import pyplot as plt\n",
    "import numpy as np\n",
    "import torch\n",
    "import pandas as pd\n",
    "import torch.nn as nn\n",
    "from torch.nn import Sequential as seq\n",
    "from torch.nn import Conv1d as c1d\n",
    "from torch.nn import MaxPool1d as m1d\n",
    "from torch.nn import Linear as l_n\n",
    "from torch.nn import Dropout as drop\n",
    "from torch.nn import ReLU as rel\n",
    "from torch.nn.functional import nll_loss as nll_loss\n",
    "from torch.autograd import Variable\n",
    "import torch.optim as optim\n",
    "from torch.utils.data import Dataset\n",
    "from torch.utils.data import DataLoader\n",
    "import os\n",
    "from sklearn.metrics import f1_score,accuracy_score,precision_score,recall_score\n",
    "import cv2\n",
    "import tabulate\n",
    "from torchsummary import summary\n"
   ]
  },
  {
   "cell_type": "code",
   "execution_count": 2,
   "metadata": {},
   "outputs": [],
   "source": [
    "class CharacterConvolutionNetwork(nn.Module):\n",
    "    def __init__(self, n_classes=4, input_length=1014, input_dim=68):\n",
    "        self.ker_siz=[7,7,3,3,3,3]\n",
    "        super(CharacterConvolutionNetwork, self).__init__()\n",
    "        self.conv1 = seq(c1d(input_dim, 256, kernel_size=self.ker_siz[0]), rel(),\n",
    "                                   nn.MaxPool1d(3))\n",
    "        self.conv2 = seq(c1d(256, 256, kernel_size=self.ker_siz[1], padding=0), rel(),\n",
    "                                   nn.MaxPool1d(3))\n",
    "        self.conv3 = seq(c1d(256, 256, kernel_size=self.ker_siz[2], padding=0), rel())\n",
    "        self.conv4 = seq(c1d(256, 256, kernel_size=self.ker_siz[3], padding=0), rel())\n",
    "        self.conv5 = seq(c1d(256, 256, kernel_size=self.ker_siz[4], padding=0), rel())\n",
    "        self.conv6 = seq(c1d(256, 256, kernel_size=self.ker_siz[5], padding=0), rel(),\n",
    "                                   nn.MaxPool1d(3))\n",
    "\n",
    "        dimension = int((input_length - 96) / 27 * 256)\n",
    "        self.fc1 = seq(l_n(dimension, 1024), drop(0.5))\n",
    "        self.fc2 = seq(l_n(1024, 1024), drop(0.5))\n",
    "        self.fc3 = l_n(1024, n_classes)\n",
    "        mn = 0.0\n",
    "        std_dev = 0.05\n",
    "        self._weights(mean=mn, std=std_dev)\n",
    "\n",
    "    def _weights(self, mean=0, std=0.05):\n",
    "        for module in self.modules():\n",
    "            if isinstance(module, c1d) or isinstance(module, l_n):\n",
    "                module.weight.data.normal_(mean, std)\n",
    "\n",
    "    def forward(self, inp):\n",
    "        inp = inp.transpose(1, 2)\n",
    "        y = self.conv1(inp)\n",
    "        y = self.conv2(y)\n",
    "        y = self.conv3(y)\n",
    "        y = self.conv4(y)\n",
    "        y = self.conv5(y)\n",
    "        y = self.conv6(y)\n",
    "        y = y.view(y.size(0), -1)\n",
    "        y = self.fc1(y)\n",
    "        y = self.fc2(y)\n",
    "        y = self.fc3(y)\n",
    "        return y"
   ]
  },
  {
   "cell_type": "code",
   "execution_count": 4,
   "metadata": {
    "colab": {
     "base_uri": "https://localhost:8080/",
     "height": 214
    },
    "id": "11VRJPm_Uw3Y",
    "outputId": "ca7ae2d4-ad73-4e83-8908-692873ac49d0"
   },
   "outputs": [
    {
     "name": "stdout",
     "output_type": "stream",
     "text": [
      "CharacterConvolutionNetwork(\n",
      "  (conv1): Sequential(\n",
      "    (0): Conv1d(68, 256, kernel_size=(7,), stride=(1,))\n",
      "    (1): ReLU()\n",
      "    (2): MaxPool1d(kernel_size=3, stride=3, padding=0, dilation=1, ceil_mode=False)\n",
      "  )\n",
      "  (conv2): Sequential(\n",
      "    (0): Conv1d(256, 256, kernel_size=(7,), stride=(1,))\n",
      "    (1): ReLU()\n",
      "    (2): MaxPool1d(kernel_size=3, stride=3, padding=0, dilation=1, ceil_mode=False)\n",
      "  )\n",
      "  (conv3): Sequential(\n",
      "    (0): Conv1d(256, 256, kernel_size=(3,), stride=(1,))\n",
      "    (1): ReLU()\n",
      "  )\n",
      "  (conv4): Sequential(\n",
      "    (0): Conv1d(256, 256, kernel_size=(3,), stride=(1,))\n",
      "    (1): ReLU()\n",
      "  )\n",
      "  (conv5): Sequential(\n",
      "    (0): Conv1d(256, 256, kernel_size=(3,), stride=(1,))\n",
      "    (1): ReLU()\n",
      "  )\n",
      "  (conv6): Sequential(\n",
      "    (0): Conv1d(256, 256, kernel_size=(3,), stride=(1,))\n",
      "    (1): ReLU()\n",
      "    (2): MaxPool1d(kernel_size=3, stride=3, padding=0, dilation=1, ceil_mode=False)\n",
      "  )\n",
      "  (fc1): Sequential(\n",
      "    (0): Linear(in_features=8704, out_features=1024, bias=True)\n",
      "    (1): Dropout(p=0.5, inplace=False)\n",
      "  )\n",
      "  (fc2): Sequential(\n",
      "    (0): Linear(in_features=1024, out_features=1024, bias=True)\n",
      "    (1): Dropout(p=0.5, inplace=False)\n",
      "  )\n",
      "  (fc3): Linear(in_features=1024, out_features=4, bias=True)\n",
      ")\n"
     ]
    }
   ],
   "source": [
    "characterConvolutionNetwork = CharacterConvolutionNetwork(4)\n",
    "print(characterConvolutionNetwork)"
   ]
  },
  {
   "cell_type": "code",
   "execution_count": 5,
   "metadata": {},
   "outputs": [],
   "source": [
    "class Config:\n",
    "    def __init__(self):\n",
    "        self.train=False\n",
    "        self.model_dict_path='./model_dict.pth'\n",
    "        "
   ]
  },
  {
   "cell_type": "code",
   "execution_count": 6,
   "metadata": {},
   "outputs": [
    {
     "name": "stdout",
     "output_type": "stream",
     "text": [
      "        class                                              title  \\\n",
      "0           3  Wall St. Bears Claw Back Into the Black (Reuters)   \n",
      "1           3  Carlyle Looks Toward Commercial Aerospace (Reu...   \n",
      "2           3    Oil and Economy Cloud Stocks' Outlook (Reuters)   \n",
      "3           3  Iraq Halts Oil Exports from Main Southern Pipe...   \n",
      "4           3  Oil prices soar to all-time record, posing new...   \n",
      "...       ...                                                ...   \n",
      "119995      1  Pakistan's Musharraf Says Won't Quit as Army C...   \n",
      "119996      2                  Renteria signing a top-shelf deal   \n",
      "119997      2                    Saban not going to Dolphins yet   \n",
      "119998      2                                  Today's NFL games   \n",
      "119999      2                       Nets get Carter from Raptors   \n",
      "\n",
      "                                                     desc  \n",
      "0       Reuters - Short-sellers, Wall Street's dwindli...  \n",
      "1       Reuters - Private investment firm Carlyle Grou...  \n",
      "2       Reuters - Soaring crude prices plus worries\\ab...  \n",
      "3       Reuters - Authorities have halted oil export\\f...  \n",
      "4       AFP - Tearaway world oil prices, toppling reco...  \n",
      "...                                                   ...  \n",
      "119995   KARACHI (Reuters) - Pakistani President Perve...  \n",
      "119996  Red Sox general manager Theo Epstein acknowled...  \n",
      "119997  The Miami Dolphins will put their courtship of...  \n",
      "119998  PITTSBURGH at NY GIANTS Time: 1:30 p.m. Line: ...  \n",
      "119999  INDIANAPOLIS -- All-Star Vince Carter was trad...  \n",
      "\n",
      "[120000 rows x 3 columns]\n"
     ]
    }
   ],
   "source": [
    "data=pd.read_csv(r'./dataset/train.csv')\n",
    "train_df=pd.DataFrame(data,columns=[\"class\",\"title\",\"desc\"])\n",
    "print(train_df)"
   ]
  },
  {
   "cell_type": "code",
   "execution_count": 56,
   "metadata": {},
   "outputs": [
    {
     "name": "stdout",
     "output_type": "stream",
     "text": [
      "      class                                              title  \\\n",
      "0         3                  Fears for T N pension after talks   \n",
      "1         4  The Race is On: Second Private Team Sets Launc...   \n",
      "2         4      Ky. Company Wins Grant to Study Peptides (AP)   \n",
      "3         4      Prediction Unit Helps Forecast Wildfires (AP)   \n",
      "4         4        Calif. Aims to Limit Farm-Related Smog (AP)   \n",
      "...     ...                                                ...   \n",
      "7595      1                                   Around the world   \n",
      "7596      2                        Void is filled with Clement   \n",
      "7597      2                             Martinez leaves bitter   \n",
      "7598      3  5 of arthritis patients in Singapore take Bext...   \n",
      "7599      3                             EBay gets into rentals   \n",
      "\n",
      "                                                   desc  \n",
      "0     Unions representing workers at Turner   Newall...  \n",
      "1     SPACE.com - TORONTO, Canada -- A second\\team o...  \n",
      "2     AP - A company founded by a chemistry research...  \n",
      "3     AP - It's barely dawn when Mike Fitzpatrick st...  \n",
      "4     AP - Southern California's smog-fighting agenc...  \n",
      "...                                                 ...  \n",
      "7595  Ukrainian presidential candidate Viktor Yushch...  \n",
      "7596  With the supply of attractive pitching options...  \n",
      "7597  Like Roger Clemens did almost exactly eight ye...  \n",
      "7598  SINGAPORE : Doctors in the United States have ...  \n",
      "7599  EBay plans to buy the apartment and home renta...  \n",
      "\n",
      "[7600 rows x 3 columns]\n"
     ]
    }
   ],
   "source": [
    "data=pd.read_csv(r'./dataset/test.csv')\n",
    "test_df=pd.DataFrame(data,columns=[\"class\",\"title\",\"desc\"])\n",
    "print(test_df)"
   ]
  },
  {
   "cell_type": "code",
   "execution_count": 8,
   "metadata": {},
   "outputs": [],
   "source": [
    "class TextDataset(Dataset):\n",
    "    def __init__(self,df, max_length=1014):\n",
    "#         self.data_path = data_path\n",
    "        strr=\"\"\"abcdefghijklmnopqrstuvwxyz0123456789,;.!?:'\\\"/\\\\|_@#$%^&*~`+-=<>()[]{}\"\"\"\n",
    "        self.vocabulary = list(strr)\n",
    "\n",
    "        self.identity_mat = np.identity(len(self.vocabulary))\n",
    "        texts, labels = [], []\n",
    "        \n",
    "        self.labels = [int(i)-1 for i in df['class'].values]\n",
    "        self.num_classes = len(set(self.labels))\n",
    "        self.length = len(self.labels)\n",
    "        self.texts = df['desc'].values\n",
    "        self.max_length = max_length\n",
    "\n",
    "\n",
    "    def __getitem__(self, index):\n",
    "        raw_text = self.texts[index]\n",
    "        isi_text = self.texts[index]\n",
    "        vocabb= self.vocabulary\n",
    "        data = np.array([self.identity_mat[self.vocabulary.index(i)] for i in list(raw_text) if i in vocabb], dtype=np.float32)\n",
    "\n",
    "        if len(data) == 0:\n",
    "            data = np.zeros((self.max_length, len(self.vocabulary)), dtype=np.float32)\n",
    "        \n",
    "        \n",
    "        elif self.max_length > len(data) > 0 :\n",
    "            data = np.concatenate((data, np.zeros((-(len(data) - self.max_length), len(self.vocabulary)), dtype=np.float32)))\n",
    "        \n",
    "        elif  self.max_length < len(data):\n",
    "            data = data[:self.max_length]\n",
    "        \n",
    "        label = self.labels[index]\n",
    "        \n",
    "        return data, label\n",
    "\n",
    "    def __len__(self):\n",
    "        return self.length\n",
    "        "
   ]
  },
  {
   "cell_type": "code",
   "execution_count": 9,
   "metadata": {},
   "outputs": [],
   "source": [
    "trainset=TextDataset(train_df)"
   ]
  },
  {
   "cell_type": "code",
   "execution_count": 10,
   "metadata": {},
   "outputs": [],
   "source": [
    "train_siz=int(0.9*120000)\n",
    "valid_siz=120000-train_siz\n",
    "\n",
    "trainset,valset=torch.utils.data.random_split(trainset, [train_siz,valid_siz])"
   ]
  },
  {
   "cell_type": "code",
   "execution_count": 11,
   "metadata": {
    "id": "a9hhiB2-U7Ns"
   },
   "outputs": [],
   "source": [
    "trainloader = DataLoader(trainset, batch_size=128, num_workers=2, drop_last=True, shuffle=True)"
   ]
  },
  {
   "cell_type": "code",
   "execution_count": 12,
   "metadata": {},
   "outputs": [],
   "source": [
    "optimizer = optim.SGD(characterConvolutionNetwork.parameters(), lr=0.01, momentum=0.9)\n",
    "criterion = nn.CrossEntropyLoss()"
   ]
  },
  {
   "cell_type": "code",
   "execution_count": 13,
   "metadata": {},
   "outputs": [],
   "source": [
    "cnf=Config()"
   ]
  },
  {
   "cell_type": "code",
   "execution_count": 14,
   "metadata": {},
   "outputs": [],
   "source": [
    "epochs=8"
   ]
  },
  {
   "cell_type": "code",
   "execution_count": 15,
   "metadata": {},
   "outputs": [
    {
     "data": {
      "image/png": "[encoded data removed]",
      "text/plain": [
       "<Figure size 1440x864 with 2 Axes>"
      ]
     },
     "metadata": {
      "needs_background": "light"
     },
     "output_type": "display_data"
    }
   ],
   "source": [
    "if cnf.train:\n",
    "    for i in range(epochs):\n",
    "        running_loss=0\n",
    "        for j,data in enumerate(trainloader,0):\n",
    "            x,y=data\n",
    "    #         print(x,y)\n",
    "            x=Variable(x)\n",
    "            y=Variable(y)\n",
    "            optimizer.zero_grad()\n",
    "            out=characterConvolutionNetwork(x)\n",
    "            loss=nll_loss(out,y)\n",
    "            loss.backward()\n",
    "            optimizer.step()\n",
    "            if j%100==0:\n",
    "                print(loss.data)\n",
    "else:\n",
    "    plt1=cv2.imread('./plot1.png')\n",
    "    plt2=cv2.imread('./plot2.png')\n",
    "\n",
    "    fig=plt.figure(figsize=(20,12))\n",
    "    r=1\n",
    "    c=2\n",
    "    fig.add_subplot(r,c,1)\n",
    "    plt.imshow(plt1,cmap='gray')\n",
    "    plt.axis('off')\n",
    "\n",
    "    fig.add_subplot(r,c,2)\n",
    "    plt.imshow(plt2,cmap='gray')\n",
    "    plt.axis('off')"
   ]
  },
  {
   "cell_type": "code",
   "execution_count": 16,
   "metadata": {},
   "outputs": [],
   "source": [
    "if cnf.train:\n",
    "    torch.save(characterConvolutionNetwork.state_dict(), cnf.model_dict_path)\n",
    "    "
   ]
  },
  {
   "cell_type": "code",
   "execution_count": 57,
   "metadata": {},
   "outputs": [
    {
     "data": {
      "text/plain": [
       "CharacterConvolutionNetwork(\n",
       "  (conv1): Sequential(\n",
       "    (0): Conv1d(68, 256, kernel_size=(7,), stride=(1,))\n",
       "    (1): ReLU()\n",
       "    (2): MaxPool1d(kernel_size=3, stride=3, padding=0, dilation=1, ceil_mode=False)\n",
       "  )\n",
       "  (conv2): Sequential(\n",
       "    (0): Conv1d(256, 256, kernel_size=(7,), stride=(1,))\n",
       "    (1): ReLU()\n",
       "    (2): MaxPool1d(kernel_size=3, stride=3, padding=0, dilation=1, ceil_mode=False)\n",
       "  )\n",
       "  (conv3): Sequential(\n",
       "    (0): Conv1d(256, 256, kernel_size=(3,), stride=(1,))\n",
       "    (1): ReLU()\n",
       "  )\n",
       "  (conv4): Sequential(\n",
       "    (0): Conv1d(256, 256, kernel_size=(3,), stride=(1,))\n",
       "    (1): ReLU()\n",
       "  )\n",
       "  (conv5): Sequential(\n",
       "    (0): Conv1d(256, 256, kernel_size=(3,), stride=(1,))\n",
       "    (1): ReLU()\n",
       "  )\n",
       "  (conv6): Sequential(\n",
       "    (0): Conv1d(256, 256, kernel_size=(3,), stride=(1,))\n",
       "    (1): ReLU()\n",
       "    (2): MaxPool1d(kernel_size=3, stride=3, padding=0, dilation=1, ceil_mode=False)\n",
       "  )\n",
       "  (fc1): Sequential(\n",
       "    (0): Linear(in_features=8704, out_features=1024, bias=True)\n",
       "    (1): Dropout(p=0.5, inplace=False)\n",
       "  )\n",
       "  (fc2): Sequential(\n",
       "    (0): Linear(in_features=1024, out_features=1024, bias=True)\n",
       "    (1): Dropout(p=0.5, inplace=False)\n",
       "  )\n",
       "  (fc3): Linear(in_features=1024, out_features=4, bias=True)\n",
       ")"
      ]
     },
     "execution_count": 57,
     "metadata": {},
     "output_type": "execute_result"
    }
   ],
   "source": [
    "model = CharacterConvolutionNetwork(4)\n",
    "model.load_state_dict(torch.load('./model_dict.pth'))\n",
    "model.eval()"
   ]
  },
  {
   "cell_type": "code",
   "execution_count": 58,
   "metadata": {},
   "outputs": [],
   "source": [
    "testset=TextDataset(test_df)"
   ]
  },
  {
   "cell_type": "code",
   "execution_count": 59,
   "metadata": {},
   "outputs": [],
   "source": [
    "testloader = DataLoader(testset,batch_size=128, num_workers=2, drop_last=True, shuffle=True)\n",
    "# print(next(iter(testloader)))\n",
    "pr=[]\n",
    "ac=[]"
   ]
  },
  {
   "cell_type": "code",
   "execution_count": 60,
   "metadata": {},
   "outputs": [
    {
     "name": "stdout",
     "output_type": "stream",
     "text": [
      "accuracy 74.94736842105263 %%\n"
     ]
    }
   ],
   "source": [
    "cnt=0\n",
    "match=0\n",
    "for j,data in enumerate(testloader,0):\n",
    "        \n",
    "        m1=0\n",
    "        x,y=data\n",
    "        x=Variable(x)\n",
    "        y=Variable(y)\n",
    "        out=model(torch.reshape(x,(128,1014,68)))\n",
    "        lab=[]\n",
    "        for i in out:\n",
    "            mx=-1e9\n",
    "            midx=0\n",
    "            for x in range(4):\n",
    "                if i[x]>mx:\n",
    "                    mx=i[x]\n",
    "                    midx=x\n",
    "            lab.append(midx)\n",
    "        for i in range(128):\n",
    "            if y[i]==lab[i]:\n",
    "                match+=1\n",
    "            pr.append(lab[i])\n",
    "            ac.append(y[i])\n",
    "print(\"accuracy\",str(match*100/len(testset)),\"%%\")\n",
    "        "
   ]
  },
  {
   "cell_type": "code",
   "execution_count": 74,
   "metadata": {},
   "outputs": [
    {
     "name": "stdout",
     "output_type": "stream",
     "text": [
      "68149\n"
     ]
    }
   ],
   "source": [
    "print(match)"
   ]
  },
  {
   "cell_type": "code",
   "execution_count": 114,
   "metadata": {},
   "outputs": [],
   "source": [
    "def sm(pred,test,i,case):\n",
    "    cnt=0\n",
    "    for x in range(len(pred)):\n",
    "        if case=='tp':\n",
    "            if pred[x]==i and test[x]==i:\n",
    "                cnt+=1\n",
    "        elif case=='tn':\n",
    "            if pred[x]!=i and test[x]!=i:\n",
    "                cnt+=1\n",
    "        elif case=='fp':\n",
    "            if pred[x]!=i and test[x]==i:\n",
    "                cnt+=1\n",
    "        elif case=='fn':\n",
    "            if pred[x]==i and test[x]!=i:\n",
    "                cnt+=1\n",
    "    return cnt       \n",
    "        "
   ]
  },
  {
   "cell_type": "code",
   "execution_count": 115,
   "metadata": {},
   "outputs": [],
   "source": [
    "def findMet(pred,test,nclass):\n",
    "    tp=[0 for i in range(nclass)]\n",
    "    tn=[0 for i in range(nclass)]\n",
    "    fp=[0 for i in range(nclass)]\n",
    "    fn=[0 for i in range(nclass)]\n",
    "    for i in range(nclass):\n",
    "        tp[i]=sm(pred,test,i,'tp')\n",
    "        tn[i]=sm(pred,test,i,'tn')\n",
    "        fp[i]=sm(pred,test,i,'fp')\n",
    "        fn[i]=sm(pred,test,i,'fn')\n",
    "    return tp,tn,fp,fn\n",
    "    "
   ]
  },
  {
   "cell_type": "code",
   "execution_count": 116,
   "metadata": {},
   "outputs": [
    {
     "name": "stdout",
     "output_type": "stream",
     "text": [
      "5696\n",
      "0.8771186440677966\n"
     ]
    }
   ],
   "source": [
    "tp,tn,fp,fn=findMet(pred=ac,test=pr,nclass=4)\n",
    "acc=sum(tp)+sum(tn)\n",
    "print(sum(tp))\n",
    "acc/=(sum(tp)+sum(tn)+sum(fp)+sum(fn))\n",
    "print(acc)"
   ]
  },
  {
   "cell_type": "code",
   "execution_count": 216,
   "metadata": {},
   "outputs": [
    {
     "name": "stdout",
     "output_type": "stream",
     "text": [
      "accuracy 75.42372881355932 %\n"
     ]
    }
   ],
   "source": [
    "ac_sc=accuracy_score(ac,pr)\n",
    "pr_sc=precision_score(ac,pr,average=None).tolist()\n",
    "rc_sc=recall_score(ac,pr,average=None).tolist()\n",
    "f1_sc=f1_score(ac,pr,average=None).tolist()\n",
    "print(\"accuracy\",100*ac_sc,\"%\")"
   ]
  },
  {
   "cell_type": "code",
   "execution_count": 210,
   "metadata": {},
   "outputs": [
    {
     "data": {
      "image/png": "[encoded data removed]",
      "text/plain": [
       "<Figure size 720x360 with 1 Axes>"
      ]
     },
     "metadata": {
      "needs_background": "light"
     },
     "output_type": "display_data"
    }
   ],
   "source": [
    "fig=plt.figure(figsize=(10,5))\n",
    "ax=fig.add_axes([0,0,1,1])\n",
    "classes=[i for i in range(1,5)]\n",
    "ax.bar(classes,pr_sc,width=0.5)\n",
    "plt.xlabel('CLASS')\n",
    "plt.ylabel('Precision Score')\n",
    "plt.title('Precision Score vs Class for AG\\'s NEWS dataset')\n",
    "plt.show()"
   ]
  },
  {
   "cell_type": "code",
   "execution_count": 211,
   "metadata": {},
   "outputs": [
    {
     "data": {
      "image/png": "[encoded data removed]",
      "text/plain": [
       "<Figure size 720x360 with 1 Axes>"
      ]
     },
     "metadata": {
      "needs_background": "light"
     },
     "output_type": "display_data"
    }
   ],
   "source": [
    "fig=plt.figure(figsize=(10,5))\n",
    "ax=fig.add_axes([0,0,1,1])\n",
    "classes=[i for i in range(1,5)]\n",
    "ax.bar(classes,rc_sc,width=0.5)\n",
    "plt.xlabel('CLASS')\n",
    "plt.ylabel('Recall Score')\n",
    "plt.title('Recall vs Class for AG\\'s NEWS dataset')\n",
    "plt.show()"
   ]
  },
  {
   "cell_type": "code",
   "execution_count": 212,
   "metadata": {},
   "outputs": [
    {
     "data": {
      "image/png": "[encoded data removed]",
      "text/plain": [
       "<Figure size 720x360 with 1 Axes>"
      ]
     },
     "metadata": {
      "needs_background": "light"
     },
     "output_type": "display_data"
    }
   ],
   "source": [
    "fig=plt.figure(figsize=(10,5))\n",
    "ax=fig.add_axes([0,0,1,1])\n",
    "classes=[i for i in range(1,5)]\n",
    "ax.bar(classes,f1_sc,width=0.5)\n",
    "plt.xlabel('CLASS')\n",
    "plt.ylabel('F1 Score')\n",
    "plt.title('F1 Score vs Class for AG\\'s NEWS dataset')\n",
    "plt.show()"
   ]
  },
  {
   "cell_type": "code",
   "execution_count": 213,
   "metadata": {},
   "outputs": [
    {
     "name": "stdout",
     "output_type": "stream",
     "text": [
      "Type         Class 1    Class 2    Class 3    Class 4\n",
      "---------  ---------  ---------  ---------  ---------\n",
      "Precision   0.810827   0.888694   0.674049   0.678486\n",
      "Recall      0.722694   0.801373   0.742312   0.750397\n",
      "F1_score    0.764228   0.842778   0.706535   0.712632\n"
     ]
    }
   ],
   "source": [
    "\n",
    "pr_sc.insert(0,'Precision')\n",
    "rc_sc.insert(0,'Recall')\n",
    "f1_sc.insert(0,'F1_score')\n",
    "# print(x)\n",
    "heading=['Type','Class 1','Class 2','Class 3','Class 4']\n",
    "table=[heading,pr_sc,rc_sc,f1_sc]\n",
    "# print(table)\n",
    "print(tabulate.tabulate(table,headers='firstrow'))"
   ]
  },
  {
   "cell_type": "code",
   "execution_count": 28,
   "metadata": {},
   "outputs": [
    {
     "name": "stdout",
     "output_type": "stream",
     "text": [
      "        class                              title  \\\n",
      "0           1                   E. D. Abbott Ltd   \n",
      "1           1                     Schwan-Stabilo   \n",
      "2           1                         Q-workshop   \n",
      "3           1  Marvell Software Solutions Israel   \n",
      "4           1        Bergan Mercy Medical Center   \n",
      "...       ...                                ...   \n",
      "559995     14                   Barking in Essex   \n",
      "559996     14                   Science & Spirit   \n",
      "559997     14             The Blithedale Romance   \n",
      "559998     14                Razadarit Ayedawbon   \n",
      "559999     14           The Vinyl Cafe Notebooks   \n",
      "\n",
      "                                                     desc  \n",
      "0        Abbott of Farnham E D Abbott Limited was a Br...  \n",
      "1        Schwan-STABILO is a German maker of pens for ...  \n",
      "2        Q-workshop is a Polish company located in Poz...  \n",
      "3        Marvell Software Solutions Israel known as RA...  \n",
      "4        Bergan Mercy Medical Center is a hospital loc...  \n",
      "...                                                   ...  \n",
      "559995   Barking in Essex is a Black comedy play direc...  \n",
      "559996   Science & Spirit is a discontinued American b...  \n",
      "559997   The Blithedale Romance (1852) is Nathaniel Ha...  \n",
      "559998   Razadarit Ayedawbon (Burmese: ရာဇာဓိရာဇ် အရေး...  \n",
      "559999   Vinyl Cafe Notebooks: a collection of essays ...  \n",
      "\n",
      "[560000 rows x 3 columns]\n"
     ]
    }
   ],
   "source": [
    "data=pd.read_csv(r'./dbpedia/train.csv')\n",
    "train_df=pd.DataFrame(data,columns=[\"class\",\"title\",\"desc\"])\n",
    "print(train_df)"
   ]
  },
  {
   "cell_type": "code",
   "execution_count": 61,
   "metadata": {},
   "outputs": [
    {
     "name": "stdout",
     "output_type": "stream",
     "text": [
      "       class                     title  \\\n",
      "0          1                     TY KU   \n",
      "1          1     Odd Lot Entertainment   \n",
      "2          1                    Henkel   \n",
      "3          1                GOAT Store   \n",
      "4          1  RagWing Aircraft Designs   \n",
      "...      ...                       ...   \n",
      "69995     14            Energy Victory   \n",
      "69996     14                 Bestiario   \n",
      "69997     14         Wuthering Heights   \n",
      "69998     14             L'Indépendant   \n",
      "69999     14      The Prophecy (novel)   \n",
      "\n",
      "                                                    desc  \n",
      "0       TY KU /taɪkuː/ is an American alcoholic bever...  \n",
      "1       OddLot Entertainment founded in 2001 by longt...  \n",
      "2       Henkel AG & Company KGaA operates worldwide w...  \n",
      "3       The GOAT Store (Games Of All Type Store) LLC ...  \n",
      "4       RagWing Aircraft Designs (also called the Rag...  \n",
      "...                                                  ...  \n",
      "69995   Energy Victory: Winning the War on Terror by ...  \n",
      "69996   Bestiario is a book of 8 short stories writte...  \n",
      "69997   Wuthering Heights is a novel by Emily Brontë ...  \n",
      "69998   L'Indépendant is a newspaper published in Lux...  \n",
      "69999   The Prophecy is the fifth novel by New York T...  \n",
      "\n",
      "[70000 rows x 3 columns]\n"
     ]
    }
   ],
   "source": [
    "data=pd.read_csv(r'./dbpedia/test.csv')\n",
    "test_df1=pd.DataFrame(data,columns=[\"class\",\"title\",\"desc\"])\n",
    "print(test_df1)"
   ]
  },
  {
   "cell_type": "code",
   "execution_count": 62,
   "metadata": {},
   "outputs": [
    {
     "data": {
      "text/plain": [
       "CharacterConvolutionNetwork(\n",
       "  (conv1): Sequential(\n",
       "    (0): Conv1d(68, 256, kernel_size=(7,), stride=(1,))\n",
       "    (1): ReLU()\n",
       "    (2): MaxPool1d(kernel_size=3, stride=3, padding=0, dilation=1, ceil_mode=False)\n",
       "  )\n",
       "  (conv2): Sequential(\n",
       "    (0): Conv1d(256, 256, kernel_size=(7,), stride=(1,))\n",
       "    (1): ReLU()\n",
       "    (2): MaxPool1d(kernel_size=3, stride=3, padding=0, dilation=1, ceil_mode=False)\n",
       "  )\n",
       "  (conv3): Sequential(\n",
       "    (0): Conv1d(256, 256, kernel_size=(3,), stride=(1,))\n",
       "    (1): ReLU()\n",
       "  )\n",
       "  (conv4): Sequential(\n",
       "    (0): Conv1d(256, 256, kernel_size=(3,), stride=(1,))\n",
       "    (1): ReLU()\n",
       "  )\n",
       "  (conv5): Sequential(\n",
       "    (0): Conv1d(256, 256, kernel_size=(3,), stride=(1,))\n",
       "    (1): ReLU()\n",
       "  )\n",
       "  (conv6): Sequential(\n",
       "    (0): Conv1d(256, 256, kernel_size=(3,), stride=(1,))\n",
       "    (1): ReLU()\n",
       "    (2): MaxPool1d(kernel_size=3, stride=3, padding=0, dilation=1, ceil_mode=False)\n",
       "  )\n",
       "  (fc1): Sequential(\n",
       "    (0): Linear(in_features=8704, out_features=1024, bias=True)\n",
       "    (1): Dropout(p=0.5, inplace=False)\n",
       "  )\n",
       "  (fc2): Sequential(\n",
       "    (0): Linear(in_features=1024, out_features=1024, bias=True)\n",
       "    (1): Dropout(p=0.5, inplace=False)\n",
       "  )\n",
       "  (fc3): Linear(in_features=1024, out_features=14, bias=True)\n",
       ")"
      ]
     },
     "execution_count": 62,
     "metadata": {},
     "output_type": "execute_result"
    }
   ],
   "source": [
    "testset=TextDataset(test_df1)\n",
    "model1 = CharacterConvolutionNetwork(14)\n",
    "model1.load_state_dict(torch.load('./dbpedia_model_dict.pth'))\n",
    "model1.eval()"
   ]
  },
  {
   "cell_type": "code",
   "execution_count": 63,
   "metadata": {},
   "outputs": [],
   "source": [
    "testloader = DataLoader(testset,batch_size=128, num_workers=2, drop_last=True, shuffle=True)\n",
    "pr1=[]\n",
    "ac1=[]"
   ]
  },
  {
   "cell_type": "code",
   "execution_count": 64,
   "metadata": {},
   "outputs": [
    {
     "name": "stdout",
     "output_type": "stream",
     "text": [
      "accuracy 97.35571428571428 %%\n"
     ]
    }
   ],
   "source": [
    "cnt=0\n",
    "match=0\n",
    "for j,data in enumerate(testloader,0):\n",
    "#         print(j)\n",
    "        m1=0\n",
    "        x,y=data\n",
    "        x=Variable(x)\n",
    "        y=Variable(y)\n",
    "        out=model1(torch.reshape(x,(128,1014,68)))\n",
    "        lab=[]\n",
    "        for i in out:\n",
    "            mx=-1e9\n",
    "            midx=0\n",
    "            for x in range(14):\n",
    "                if i[x]>mx:\n",
    "                    mx=i[x]\n",
    "                    midx=x\n",
    "            lab.append(midx)\n",
    "        for i in range(128):\n",
    "            if y[i]==lab[i]:\n",
    "                match+=1\n",
    "            pr1.append(lab[i])\n",
    "            ac1.append(y[i])\n",
    "print(\"accuracy\",str(match*100/len(testset)),\"%%\")\n",
    "        "
   ]
  },
  {
   "cell_type": "code",
   "execution_count": 112,
   "metadata": {},
   "outputs": [
    {
     "name": "stdout",
     "output_type": "stream",
     "text": [
      "0.9964453329408687\n"
     ]
    }
   ],
   "source": [
    "tp,tn,fp,fn=findMet(pred=ac1,test=pr1,nclass=14)\n",
    "acc=sum(tp)+sum(tn)\n",
    "acc/=(sum(tp)+sum(tn)+sum(fp)+sum(fn))\n",
    "print(acc)"
   ]
  },
  {
   "cell_type": "code",
   "execution_count": 191,
   "metadata": {},
   "outputs": [],
   "source": [
    "ac_sc=accuracy_score(ac1,pr1).tolist()\n",
    "pr_sc=precision_score(ac1,pr1,average=None).tolist()\n",
    "rc_sc=recall_score(ac1,pr1,average=None).tolist()\n",
    "f1_sc=f1_score(ac1,pr1,average=None).tolist()\n"
   ]
  },
  {
   "cell_type": "code",
   "execution_count": 192,
   "metadata": {},
   "outputs": [
    {
     "data": {
      "image/png": "[encoded data removed]",
      "text/plain": [
       "<Figure size 720x360 with 1 Axes>"
      ]
     },
     "metadata": {
      "needs_background": "light"
     },
     "output_type": "display_data"
    }
   ],
   "source": [
    "\n",
    "fig=plt.figure(figsize=(10,5))\n",
    "ax=fig.add_axes([0,0,1,1])\n",
    "classes=[i for i in range(1,15)]\n",
    "ax.bar(classes,pr_sc,width=0.5)\n",
    "plt.xlabel('CLASS')\n",
    "plt.ylabel('Precision Score')\n",
    "plt.title('Precision Score vs Class for DBPedia ontology dataset')\n",
    "plt.show()"
   ]
  },
  {
   "cell_type": "code",
   "execution_count": 193,
   "metadata": {},
   "outputs": [
    {
     "data": {
      "image/png": "[encoded data removed]",
      "text/plain": [
       "<Figure size 720x360 with 1 Axes>"
      ]
     },
     "metadata": {
      "needs_background": "light"
     },
     "output_type": "display_data"
    }
   ],
   "source": [
    "fig=plt.figure(figsize=(10,5))\n",
    "ax=fig.add_axes([0,0,1,1])\n",
    "classes=[i for i in range(1,15)]\n",
    "ax.bar(classes,rc_sc,width=0.4)\n",
    "plt.xlabel('CLASS')\n",
    "plt.ylabel('Recall')\n",
    "plt.title('Recall vs Class for DBPedia ontology dataset')\n",
    "plt.show()"
   ]
  },
  {
   "cell_type": "code",
   "execution_count": 194,
   "metadata": {},
   "outputs": [
    {
     "data": {
      "image/png": "[encoded data removed]",
      "text/plain": [
       "<Figure size 720x360 with 1 Axes>"
      ]
     },
     "metadata": {
      "needs_background": "light"
     },
     "output_type": "display_data"
    }
   ],
   "source": [
    "fig=plt.figure(figsize=(10,5))\n",
    "ax=fig.add_axes([0,0,1,1])\n",
    "classes=[i for i in range(1,15)]\n",
    "ax.bar(classes,f1_sc,width=0.5)\n",
    "plt.xlabel('CLASS')\n",
    "plt.ylabel('F1 Score')\n",
    "plt.title('F1 Score vs Class for DBPedia ontology dataset')\n",
    "plt.show()"
   ]
  },
  {
   "cell_type": "code",
   "execution_count": 217,
   "metadata": {},
   "outputs": [
    {
     "name": "stdout",
     "output_type": "stream",
     "text": [
      "accuracy 97.51173305860806 %\n",
      "Type       Precision    Recall    F1_score\n",
      "-------  -----------  --------  ----------\n",
      "Class1      0.922482  0.955929    0.938908\n",
      "Class2      0.979555  0.969157    0.974328\n",
      "Class3      0.95495   0.968149    0.961504\n",
      "Class4      0.996745  0.982161    0.989399\n",
      "Class5      0.978353  0.969138    0.973724\n",
      "Class6      0.965639  0.985769    0.9756\n",
      "Class7      0.969841  0.939752    0.954559\n",
      "Class8      0.978118  0.984976    0.981535\n",
      "Class9      0.99281   0.995394    0.994101\n",
      "Class10     0.98259   0.983771    0.98318\n",
      "Class11     0.982393  0.983574    0.982983\n",
      "Class12     0.983984  0.984773    0.984378\n",
      "Class13     0.983593  0.984776    0.984184\n",
      "Class14     0.983262  0.964364    0.973721\n"
     ]
    }
   ],
   "source": [
    "ac_sc=accuracy_score(ac1,pr1).tolist()\n",
    "pr_sc=precision_score(ac1,pr1,average=None).tolist()\n",
    "rc_sc=recall_score(ac1,pr1,average=None).tolist()\n",
    "f1_sc=f1_score(ac1,pr1,average=None).tolist()\n",
    "print(\"accuracy\",100*ac_sc,\"%\")\n",
    "pr_sc.insert(0,'Precision')\n",
    "rc_sc.insert(0,'Recall')\n",
    "f1_sc.insert(0,'F1_score')\n",
    "# print(x)\n",
    "heading=['Type']\n",
    "for i in range(1,15):\n",
    "    heading.append('Class'+str(i))\n",
    "table=[heading,pr_sc,rc_sc,f1_sc]\n",
    "t1=[]\n",
    "for i in range(15):\n",
    "    temp=[]\n",
    "    for j in range(4):\n",
    "        temp.append(table[j][i])\n",
    "    t1.append(temp)\n",
    "        \n",
    "# print(t1)\n",
    "print(tabulate.tabulate(t1,headers='firstrow'))"
   ]
  },
  {
   "cell_type": "code",
   "execution_count": null,
   "metadata": {},
   "outputs": [],
   "source": []
  },
  {
   "cell_type": "code",
   "execution_count": null,
   "metadata": {},
   "outputs": [],
   "source": []
  }
 ],
 "metadata": {
  "colab": {
   "collapsed_sections": [],
   "name": "Project_SMAI.ipynb",
   "provenance": []
  },
  "interpreter": {
   "hash": "916dbcbb3f70747c44a77c7bcd40155683ae19c65e1c03b4aa3499c5328201f1"
  },
  "kernelspec": {
   "display_name": "Python 3",
   "language": "python",
   "name": "python3"
  },
  "language_info": {
   "codemirror_mode": {
    "name": "ipython",
    "version": 3
   },
   "file_extension": ".py",
   "mimetype": "text/x-python",
   "name": "python",
   "nbconvert_exporter": "python",
   "pygments_lexer": "ipython3",
   "version": "3.8.10"
  }
 },
 "nbformat": 4,
 "nbformat_minor": 1
}
